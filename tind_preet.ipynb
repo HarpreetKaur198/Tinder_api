{
  "nbformat": 4,
  "nbformat_minor": 0,
  "metadata": {
    "colab": {
      "name": "tind-preet.ipynb",
      "provenance": []
    },
    "kernelspec": {
      "name": "python3",
      "display_name": "Python 3"
    },
    "language_info": {
      "name": "python"
    }
  },
  "cells": [
    {
      "cell_type": "code",
      "metadata": {
        "id": "PpBdW-IcFW4G"
      },
      "source": [
        "import firebase_admin\n"
      ],
      "execution_count": 2,
      "outputs": []
    },
    {
      "cell_type": "code",
      "metadata": {
        "id": "rspYviJHFti9"
      },
      "source": [
        "from firebase_admin import auth,storage,firestore,credentials"
      ],
      "execution_count": 3,
      "outputs": []
    },
    {
      "cell_type": "code",
      "metadata": {
        "id": "N3S3lz-iGCud"
      },
      "source": [
        "cred=credentials.Certificate(\"/content/tind-preet-firebase-adminsdk-gv7ko-8b28e295e7.json\")\n",
        "firebase_app=firebase_admin.initialize_app(cred)\n",
        "store=firestore.client()"
      ],
      "execution_count": 4,
      "outputs": []
    },
    {
      "cell_type": "code",
      "metadata": {
        "colab": {
          "base_uri": "https://localhost:8080/",
          "height": 425
        },
        "id": "9rVNwP5JMRxW",
        "outputId": "75332b98-5638-42cd-c90d-644fbad3cab5"
      },
      "source": [
        "user = auth.create_user(\n",
        "    email='pite@hello.to',\n",
        "    email_verified=False,\n",
        "    password='123456',\n",
        "    )\n",
        "print('Sucessfully created new user: {0}'.format(user.uid))"
      ],
      "execution_count": 4,
      "outputs": [
        {
          "output_type": "error",
          "ename": "EmailAlreadyExistsError",
          "evalue": "ignored",
          "traceback": [
            "\u001b[0;31m---------------------------------------------------------------------------\u001b[0m",
            "\u001b[0;31mHTTPError\u001b[0m                                 Traceback (most recent call last)",
            "\u001b[0;32m/usr/local/lib/python3.7/dist-packages/firebase_admin/_user_mgt.py\u001b[0m in \u001b[0;36m_make_request\u001b[0;34m(self, method, path, **kwargs)\u001b[0m\n\u001b[1;32m    836\u001b[0m         \u001b[0;32mtry\u001b[0m\u001b[0;34m:\u001b[0m\u001b[0;34m\u001b[0m\u001b[0;34m\u001b[0m\u001b[0m\n\u001b[0;32m--> 837\u001b[0;31m             \u001b[0;32mreturn\u001b[0m \u001b[0mself\u001b[0m\u001b[0;34m.\u001b[0m\u001b[0mhttp_client\u001b[0m\u001b[0;34m.\u001b[0m\u001b[0mbody_and_response\u001b[0m\u001b[0;34m(\u001b[0m\u001b[0mmethod\u001b[0m\u001b[0;34m,\u001b[0m \u001b[0murl\u001b[0m\u001b[0;34m,\u001b[0m \u001b[0;34m**\u001b[0m\u001b[0mkwargs\u001b[0m\u001b[0;34m)\u001b[0m\u001b[0;34m\u001b[0m\u001b[0;34m\u001b[0m\u001b[0m\n\u001b[0m\u001b[1;32m    838\u001b[0m         \u001b[0;32mexcept\u001b[0m \u001b[0mrequests\u001b[0m\u001b[0;34m.\u001b[0m\u001b[0mexceptions\u001b[0m\u001b[0;34m.\u001b[0m\u001b[0mRequestException\u001b[0m \u001b[0;32mas\u001b[0m \u001b[0merror\u001b[0m\u001b[0;34m:\u001b[0m\u001b[0;34m\u001b[0m\u001b[0;34m\u001b[0m\u001b[0m\n",
            "\u001b[0;32m/usr/local/lib/python3.7/dist-packages/firebase_admin/_http_client.py\u001b[0m in \u001b[0;36mbody_and_response\u001b[0;34m(self, method, url, **kwargs)\u001b[0m\n\u001b[1;32m    124\u001b[0m     \u001b[0;32mdef\u001b[0m \u001b[0mbody_and_response\u001b[0m\u001b[0;34m(\u001b[0m\u001b[0mself\u001b[0m\u001b[0;34m,\u001b[0m \u001b[0mmethod\u001b[0m\u001b[0;34m,\u001b[0m \u001b[0murl\u001b[0m\u001b[0;34m,\u001b[0m \u001b[0;34m**\u001b[0m\u001b[0mkwargs\u001b[0m\u001b[0;34m)\u001b[0m\u001b[0;34m:\u001b[0m\u001b[0;34m\u001b[0m\u001b[0;34m\u001b[0m\u001b[0m\n\u001b[0;32m--> 125\u001b[0;31m         \u001b[0mresp\u001b[0m \u001b[0;34m=\u001b[0m \u001b[0mself\u001b[0m\u001b[0;34m.\u001b[0m\u001b[0mrequest\u001b[0m\u001b[0;34m(\u001b[0m\u001b[0mmethod\u001b[0m\u001b[0;34m,\u001b[0m \u001b[0murl\u001b[0m\u001b[0;34m,\u001b[0m \u001b[0;34m**\u001b[0m\u001b[0mkwargs\u001b[0m\u001b[0;34m)\u001b[0m\u001b[0;34m\u001b[0m\u001b[0;34m\u001b[0m\u001b[0m\n\u001b[0m\u001b[1;32m    126\u001b[0m         \u001b[0;32mreturn\u001b[0m \u001b[0mself\u001b[0m\u001b[0;34m.\u001b[0m\u001b[0mparse_body\u001b[0m\u001b[0;34m(\u001b[0m\u001b[0mresp\u001b[0m\u001b[0;34m)\u001b[0m\u001b[0;34m,\u001b[0m \u001b[0mresp\u001b[0m\u001b[0;34m\u001b[0m\u001b[0;34m\u001b[0m\u001b[0m\n",
            "\u001b[0;32m/usr/local/lib/python3.7/dist-packages/firebase_admin/_http_client.py\u001b[0m in \u001b[0;36mrequest\u001b[0;34m(self, method, url, **kwargs)\u001b[0m\n\u001b[1;32m    116\u001b[0m         \u001b[0mresp\u001b[0m \u001b[0;34m=\u001b[0m \u001b[0mself\u001b[0m\u001b[0;34m.\u001b[0m\u001b[0m_session\u001b[0m\u001b[0;34m.\u001b[0m\u001b[0mrequest\u001b[0m\u001b[0;34m(\u001b[0m\u001b[0mmethod\u001b[0m\u001b[0;34m,\u001b[0m \u001b[0mself\u001b[0m\u001b[0;34m.\u001b[0m\u001b[0mbase_url\u001b[0m \u001b[0;34m+\u001b[0m \u001b[0murl\u001b[0m\u001b[0;34m,\u001b[0m \u001b[0;34m**\u001b[0m\u001b[0mkwargs\u001b[0m\u001b[0;34m)\u001b[0m\u001b[0;34m\u001b[0m\u001b[0;34m\u001b[0m\u001b[0m\n\u001b[0;32m--> 117\u001b[0;31m         \u001b[0mresp\u001b[0m\u001b[0;34m.\u001b[0m\u001b[0mraise_for_status\u001b[0m\u001b[0;34m(\u001b[0m\u001b[0;34m)\u001b[0m\u001b[0;34m\u001b[0m\u001b[0;34m\u001b[0m\u001b[0m\n\u001b[0m\u001b[1;32m    118\u001b[0m         \u001b[0;32mreturn\u001b[0m \u001b[0mresp\u001b[0m\u001b[0;34m\u001b[0m\u001b[0;34m\u001b[0m\u001b[0m\n",
            "\u001b[0;32m/usr/local/lib/python3.7/dist-packages/requests/models.py\u001b[0m in \u001b[0;36mraise_for_status\u001b[0;34m(self)\u001b[0m\n\u001b[1;32m    940\u001b[0m         \u001b[0;32mif\u001b[0m \u001b[0mhttp_error_msg\u001b[0m\u001b[0;34m:\u001b[0m\u001b[0;34m\u001b[0m\u001b[0;34m\u001b[0m\u001b[0m\n\u001b[0;32m--> 941\u001b[0;31m             \u001b[0;32mraise\u001b[0m \u001b[0mHTTPError\u001b[0m\u001b[0;34m(\u001b[0m\u001b[0mhttp_error_msg\u001b[0m\u001b[0;34m,\u001b[0m \u001b[0mresponse\u001b[0m\u001b[0;34m=\u001b[0m\u001b[0mself\u001b[0m\u001b[0;34m)\u001b[0m\u001b[0;34m\u001b[0m\u001b[0;34m\u001b[0m\u001b[0m\n\u001b[0m\u001b[1;32m    942\u001b[0m \u001b[0;34m\u001b[0m\u001b[0m\n",
            "\u001b[0;31mHTTPError\u001b[0m: 400 Client Error: Bad Request for url: https://identitytoolkit.googleapis.com/v1/projects/tind-preet/accounts",
            "\nDuring handling of the above exception, another exception occurred:\n",
            "\u001b[0;31mEmailAlreadyExistsError\u001b[0m                   Traceback (most recent call last)",
            "\u001b[0;32m<ipython-input-4-91c675675537>\u001b[0m in \u001b[0;36m<module>\u001b[0;34m()\u001b[0m\n\u001b[1;32m      2\u001b[0m     \u001b[0memail\u001b[0m\u001b[0;34m=\u001b[0m\u001b[0;34m'pite@hello.to'\u001b[0m\u001b[0;34m,\u001b[0m\u001b[0;34m\u001b[0m\u001b[0;34m\u001b[0m\u001b[0m\n\u001b[1;32m      3\u001b[0m     \u001b[0memail_verified\u001b[0m\u001b[0;34m=\u001b[0m\u001b[0;32mFalse\u001b[0m\u001b[0;34m,\u001b[0m\u001b[0;34m\u001b[0m\u001b[0;34m\u001b[0m\u001b[0m\n\u001b[0;32m----> 4\u001b[0;31m     \u001b[0mpassword\u001b[0m\u001b[0;34m=\u001b[0m\u001b[0;34m'123456'\u001b[0m\u001b[0;34m,\u001b[0m\u001b[0;34m\u001b[0m\u001b[0;34m\u001b[0m\u001b[0m\n\u001b[0m\u001b[1;32m      5\u001b[0m     )\n\u001b[1;32m      6\u001b[0m \u001b[0mprint\u001b[0m\u001b[0;34m(\u001b[0m\u001b[0;34m'Sucessfully created new user: {0}'\u001b[0m\u001b[0;34m.\u001b[0m\u001b[0mformat\u001b[0m\u001b[0;34m(\u001b[0m\u001b[0muser\u001b[0m\u001b[0;34m.\u001b[0m\u001b[0muid\u001b[0m\u001b[0;34m)\u001b[0m\u001b[0;34m)\u001b[0m\u001b[0;34m\u001b[0m\u001b[0;34m\u001b[0m\u001b[0m\n",
            "\u001b[0;32m/usr/local/lib/python3.7/dist-packages/firebase_admin/auth.py\u001b[0m in \u001b[0;36mcreate_user\u001b[0;34m(**kwargs)\u001b[0m\n\u001b[1;32m    429\u001b[0m     \u001b[0mapp\u001b[0m \u001b[0;34m=\u001b[0m \u001b[0mkwargs\u001b[0m\u001b[0;34m.\u001b[0m\u001b[0mpop\u001b[0m\u001b[0;34m(\u001b[0m\u001b[0;34m'app'\u001b[0m\u001b[0;34m,\u001b[0m \u001b[0;32mNone\u001b[0m\u001b[0;34m)\u001b[0m\u001b[0;34m\u001b[0m\u001b[0;34m\u001b[0m\u001b[0m\n\u001b[1;32m    430\u001b[0m     \u001b[0mclient\u001b[0m \u001b[0;34m=\u001b[0m \u001b[0m_get_client\u001b[0m\u001b[0;34m(\u001b[0m\u001b[0mapp\u001b[0m\u001b[0;34m)\u001b[0m\u001b[0;34m\u001b[0m\u001b[0;34m\u001b[0m\u001b[0m\n\u001b[0;32m--> 431\u001b[0;31m     \u001b[0;32mreturn\u001b[0m \u001b[0mclient\u001b[0m\u001b[0;34m.\u001b[0m\u001b[0mcreate_user\u001b[0m\u001b[0;34m(\u001b[0m\u001b[0;34m**\u001b[0m\u001b[0mkwargs\u001b[0m\u001b[0;34m)\u001b[0m\u001b[0;34m\u001b[0m\u001b[0;34m\u001b[0m\u001b[0m\n\u001b[0m\u001b[1;32m    432\u001b[0m \u001b[0;34m\u001b[0m\u001b[0m\n\u001b[1;32m    433\u001b[0m \u001b[0;34m\u001b[0m\u001b[0m\n",
            "\u001b[0;32m/usr/local/lib/python3.7/dist-packages/firebase_admin/_auth_client.py\u001b[0m in \u001b[0;36mcreate_user\u001b[0;34m(self, **kwargs)\u001b[0m\n\u001b[1;32m    284\u001b[0m             \u001b[0mFirebaseError\u001b[0m\u001b[0;34m:\u001b[0m \u001b[0mIf\u001b[0m \u001b[0man\u001b[0m \u001b[0merror\u001b[0m \u001b[0moccurs\u001b[0m \u001b[0;32mwhile\u001b[0m \u001b[0mcreating\u001b[0m \u001b[0mthe\u001b[0m \u001b[0muser\u001b[0m \u001b[0maccount\u001b[0m\u001b[0;34m.\u001b[0m\u001b[0;34m\u001b[0m\u001b[0;34m\u001b[0m\u001b[0m\n\u001b[1;32m    285\u001b[0m         \"\"\"\n\u001b[0;32m--> 286\u001b[0;31m         \u001b[0muid\u001b[0m \u001b[0;34m=\u001b[0m \u001b[0mself\u001b[0m\u001b[0;34m.\u001b[0m\u001b[0m_user_manager\u001b[0m\u001b[0;34m.\u001b[0m\u001b[0mcreate_user\u001b[0m\u001b[0;34m(\u001b[0m\u001b[0;34m**\u001b[0m\u001b[0mkwargs\u001b[0m\u001b[0;34m)\u001b[0m\u001b[0;34m\u001b[0m\u001b[0;34m\u001b[0m\u001b[0m\n\u001b[0m\u001b[1;32m    287\u001b[0m         \u001b[0;32mreturn\u001b[0m \u001b[0mself\u001b[0m\u001b[0;34m.\u001b[0m\u001b[0mget_user\u001b[0m\u001b[0;34m(\u001b[0m\u001b[0muid\u001b[0m\u001b[0;34m=\u001b[0m\u001b[0muid\u001b[0m\u001b[0;34m)\u001b[0m\u001b[0;34m\u001b[0m\u001b[0;34m\u001b[0m\u001b[0m\n\u001b[1;32m    288\u001b[0m \u001b[0;34m\u001b[0m\u001b[0m\n",
            "\u001b[0;32m/usr/local/lib/python3.7/dist-packages/firebase_admin/_user_mgt.py\u001b[0m in \u001b[0;36mcreate_user\u001b[0;34m(self, uid, display_name, email, phone_number, photo_url, password, disabled, email_verified)\u001b[0m\n\u001b[1;32m    680\u001b[0m         }\n\u001b[1;32m    681\u001b[0m         \u001b[0mpayload\u001b[0m \u001b[0;34m=\u001b[0m \u001b[0;34m{\u001b[0m\u001b[0mk\u001b[0m\u001b[0;34m:\u001b[0m \u001b[0mv\u001b[0m \u001b[0;32mfor\u001b[0m \u001b[0mk\u001b[0m\u001b[0;34m,\u001b[0m \u001b[0mv\u001b[0m \u001b[0;32min\u001b[0m \u001b[0mpayload\u001b[0m\u001b[0;34m.\u001b[0m\u001b[0mitems\u001b[0m\u001b[0;34m(\u001b[0m\u001b[0;34m)\u001b[0m \u001b[0;32mif\u001b[0m \u001b[0mv\u001b[0m \u001b[0;32mis\u001b[0m \u001b[0;32mnot\u001b[0m \u001b[0;32mNone\u001b[0m\u001b[0;34m}\u001b[0m\u001b[0;34m\u001b[0m\u001b[0;34m\u001b[0m\u001b[0m\n\u001b[0;32m--> 682\u001b[0;31m         \u001b[0mbody\u001b[0m\u001b[0;34m,\u001b[0m \u001b[0mhttp_resp\u001b[0m \u001b[0;34m=\u001b[0m \u001b[0mself\u001b[0m\u001b[0;34m.\u001b[0m\u001b[0m_make_request\u001b[0m\u001b[0;34m(\u001b[0m\u001b[0;34m'post'\u001b[0m\u001b[0;34m,\u001b[0m \u001b[0;34m'/accounts'\u001b[0m\u001b[0;34m,\u001b[0m \u001b[0mjson\u001b[0m\u001b[0;34m=\u001b[0m\u001b[0mpayload\u001b[0m\u001b[0;34m)\u001b[0m\u001b[0;34m\u001b[0m\u001b[0;34m\u001b[0m\u001b[0m\n\u001b[0m\u001b[1;32m    683\u001b[0m         \u001b[0;32mif\u001b[0m \u001b[0;32mnot\u001b[0m \u001b[0mbody\u001b[0m \u001b[0;32mor\u001b[0m \u001b[0;32mnot\u001b[0m \u001b[0mbody\u001b[0m\u001b[0;34m.\u001b[0m\u001b[0mget\u001b[0m\u001b[0;34m(\u001b[0m\u001b[0;34m'localId'\u001b[0m\u001b[0;34m)\u001b[0m\u001b[0;34m:\u001b[0m\u001b[0;34m\u001b[0m\u001b[0;34m\u001b[0m\u001b[0m\n\u001b[1;32m    684\u001b[0m             raise _auth_utils.UnexpectedResponseError(\n",
            "\u001b[0;32m/usr/local/lib/python3.7/dist-packages/firebase_admin/_user_mgt.py\u001b[0m in \u001b[0;36m_make_request\u001b[0;34m(self, method, path, **kwargs)\u001b[0m\n\u001b[1;32m    837\u001b[0m             \u001b[0;32mreturn\u001b[0m \u001b[0mself\u001b[0m\u001b[0;34m.\u001b[0m\u001b[0mhttp_client\u001b[0m\u001b[0;34m.\u001b[0m\u001b[0mbody_and_response\u001b[0m\u001b[0;34m(\u001b[0m\u001b[0mmethod\u001b[0m\u001b[0;34m,\u001b[0m \u001b[0murl\u001b[0m\u001b[0;34m,\u001b[0m \u001b[0;34m**\u001b[0m\u001b[0mkwargs\u001b[0m\u001b[0;34m)\u001b[0m\u001b[0;34m\u001b[0m\u001b[0;34m\u001b[0m\u001b[0m\n\u001b[1;32m    838\u001b[0m         \u001b[0;32mexcept\u001b[0m \u001b[0mrequests\u001b[0m\u001b[0;34m.\u001b[0m\u001b[0mexceptions\u001b[0m\u001b[0;34m.\u001b[0m\u001b[0mRequestException\u001b[0m \u001b[0;32mas\u001b[0m \u001b[0merror\u001b[0m\u001b[0;34m:\u001b[0m\u001b[0;34m\u001b[0m\u001b[0;34m\u001b[0m\u001b[0m\n\u001b[0;32m--> 839\u001b[0;31m             \u001b[0;32mraise\u001b[0m \u001b[0m_auth_utils\u001b[0m\u001b[0;34m.\u001b[0m\u001b[0mhandle_auth_backend_error\u001b[0m\u001b[0;34m(\u001b[0m\u001b[0merror\u001b[0m\u001b[0;34m)\u001b[0m\u001b[0;34m\u001b[0m\u001b[0;34m\u001b[0m\u001b[0m\n\u001b[0m\u001b[1;32m    840\u001b[0m \u001b[0;34m\u001b[0m\u001b[0m\n\u001b[1;32m    841\u001b[0m \u001b[0;34m\u001b[0m\u001b[0m\n",
            "\u001b[0;31mEmailAlreadyExistsError\u001b[0m: The user with the provided email already exists (EMAIL_EXISTS)."
          ]
        }
      ]
    },
    {
      "cell_type": "code",
      "metadata": {
        "colab": {
          "base_uri": "https://localhost:8080/"
        },
        "id": "f2tCYiN2OlTT",
        "outputId": "72e9fd44-5f75-4d48-9371-af9c957410b1"
      },
      "source": [
        "user = auth.create_user(\n",
        "    email='kaurpreet95har@gmail.com',\n",
        "    email_verified=False,\n",
        "    password='secret',\n",
        "    )\n",
        "print('Sucessfully created new user: {0}'.format(user.uid))"
      ],
      "execution_count": 9,
      "outputs": [
        {
          "output_type": "stream",
          "text": [
            "Sucessfully created new user: Ka7jLXTZ4jf5rqZilYhLtqkj6mH3\n"
          ],
          "name": "stdout"
        }
      ]
    },
    {
      "cell_type": "code",
      "metadata": {
        "colab": {
          "base_uri": "https://localhost:8080/"
        },
        "id": "foNl02FxQtyv",
        "outputId": "b2befe66-4ec3-4bd9-fee5-e5e2a117d756"
      },
      "source": [
        "try:\n",
        "  user=auth.get_user_by_email(\"pite@hello.to\")\n",
        "  print(user.uid)\n",
        "except:\n",
        "  print(\"user not found\")"
      ],
      "execution_count": 11,
      "outputs": [
        {
          "output_type": "stream",
          "text": [
            "rko7tX5WcgYUfUQhp32R6cjLef03\n"
          ],
          "name": "stdout"
        }
      ]
    },
    {
      "cell_type": "code",
      "metadata": {
        "colab": {
          "base_uri": "https://localhost:8080/"
        },
        "id": "qLZ4caSHRS0B",
        "outputId": "441a341e-23ea-4a92-cfd1-18f2fcda5a1f"
      },
      "source": [
        "try:\n",
        "  user=auth.get_user_by_email(\"pite@hello.com\")\n",
        "  print(user.uid)\n",
        "except:\n",
        "  print(\"user not found\")"
      ],
      "execution_count": 12,
      "outputs": [
        {
          "output_type": "stream",
          "text": [
            "user not found\n"
          ],
          "name": "stdout"
        }
      ]
    },
    {
      "cell_type": "code",
      "metadata": {
        "id": "nmQXO125J5AU"
      },
      "source": [
        "def signup(emailofuser,passwordofuser):\n",
        "  uid=\"\"\n",
        "  message=\"\"\n",
        "  try:\n",
        "    user = auth.create_user(\n",
        "        email=emailofuser,\n",
        "        email_verified=False,\n",
        "        password=passwordofuser)\n",
        "    message=\"Successfully created new user\"\n",
        "    uid=user.uid\n",
        "  except:\n",
        "    message=\"user already there\"\n",
        "    return{\"uid\":uid,\"message\":message}\n"
      ],
      "execution_count": 5,
      "outputs": []
    },
    {
      "cell_type": "code",
      "metadata": {
        "id": "qYSUUH3yG9uE"
      },
      "source": [
        "signup(\"shyna@hey.com\",\"345678\")"
      ],
      "execution_count": 18,
      "outputs": []
    },
    {
      "cell_type": "code",
      "metadata": {
        "colab": {
          "base_uri": "https://localhost:8080/"
        },
        "id": "F20YgS8hDh0a",
        "outputId": "49cdb2e9-fb8f-487d-dcc5-fef71751678f"
      },
      "source": [
        "signup(\"hemant@fine.com\",\"234567\")"
      ],
      "execution_count": 17,
      "outputs": [
        {
          "output_type": "execute_result",
          "data": {
            "text/plain": [
              "{'message': 'user already there', 'uid': ''}"
            ]
          },
          "metadata": {
            "tags": []
          },
          "execution_count": 17
        }
      ]
    },
    {
      "cell_type": "code",
      "metadata": {
        "id": "wIVbNi_QFuAU"
      },
      "source": [
        "def login(emailofuser,passwordofuser):\n",
        "  uid=\"\"\n",
        "  message=\"\"\n",
        "  try:\n",
        "    user = auth.get_user_by_email(emailofuser)\n",
        "    message=\"Successfully created new user\"\n",
        "    uid=user.uid\n",
        "  except:\n",
        "    message=\"user not there in firebase\"\n",
        "    return{\"uid\":uid,\"message\":message}"
      ],
      "execution_count": 6,
      "outputs": []
    },
    {
      "cell_type": "code",
      "metadata": {
        "colab": {
          "base_uri": "https://localhost:8080/"
        },
        "id": "Ymy9v1szMzlL",
        "outputId": "226be7a6-d26d-4c39-dad2-a96a02eaca14"
      },
      "source": [
        "login(\"kamal@rash.com\",\"123456\")"
      ],
      "execution_count": 20,
      "outputs": [
        {
          "output_type": "execute_result",
          "data": {
            "text/plain": [
              "{'message': 'user not there in firebase', 'uid': ''}"
            ]
          },
          "metadata": {
            "tags": []
          },
          "execution_count": 20
        }
      ]
    },
    {
      "cell_type": "code",
      "metadata": {
        "id": "NpfUGD1JNGHm"
      },
      "source": [
        "dit={}\n",
        "\n",
        "dit[\"name\"]=\"Harpreet\"\n",
        "dit[\"email\"]=\"pite@hello.to\"\n",
        "dit[\"number\"]=\"9494959637\"\n",
        "dit[\"image\"]=\"/content/Image about girl in art by Fira_489 on We Heart It.jpg\"\n",
        "dit[\"descript\"]=\"single\"\n",
        "dit[\"location\"]={\"coordinate\":{\"lat\":30.900965,\"lng\":75.857277},\"city\":\"Ludhiana\",\"state\":\"Punjab\",\"country\":\"India\"}\n",
        "dit[\"dob\"]=\"15/5/1999\"\n",
        "dit[\"gender\"]=\"female\"\n",
        "dit[\"passion\"]=\"studying\"\n",
        "dit[\"job\"]=\"developer\"\n",
        "dit[\"company\"]=\"letsupgrade\""
      ],
      "execution_count": 7,
      "outputs": []
    },
    {
      "cell_type": "code",
      "metadata": {
        "id": "aMcZuJ1xZPcI"
      },
      "source": [
        "def updateuserdata(uid,dit):\n",
        "  user_detail={}\n",
        "  user_detail['name']=dit[\"name\"]\n",
        "  user_detail['email']=dit[\"email\"]\n",
        "  user_detail['number']=dit[\"number\"]\n",
        "  user_detail['image']=dit[\"image\"]\n",
        "  user_detail['descript']=dit[\"descript\"]\n",
        "\n",
        "  user_detail['location']=dit[\"location\"]\n",
        "  user_detail['createdAt']=firestore.SERVER_TIMESTAMP\n",
        " # user_detail['location']['coordinate']['lat']=dit[\"location\"]['coordinate']['lat']\n",
        " # user_detail['location']['coordinate']['lng']=dit[\"location\"]['coordinate']['lng']\n",
        " # user_detail['location']['city']=dit[\"location\"]['city']\n",
        " # user_detail['location']['state']=dit[\"location\"]['state']\n",
        " # user_detail['location']['country']=dit[\"location\"]['country']\n",
        "\n",
        "  user_detail['dob']=dit[\"dob\"]\n",
        "  user_detail['gender']=dit[\"gender\"]\n",
        "  user_detail['passion']=dit[\"passion\"]\n",
        "  user_detail['job']=dit[\"job\"]\n",
        "  user_detail['company']=dit[\"company\"]\n",
        "\n",
        "  store.collection(\"users\").document(uid).set(user_detail)"
      ],
      "execution_count": 8,
      "outputs": []
    },
    {
      "cell_type": "code",
      "metadata": {
        "id": "RLywaFoYoyWa"
      },
      "source": [
        "updateuserdata(\"rko7tX5WcgYUfUQhp32R6cjLef03\",dit)"
      ],
      "execution_count": 9,
      "outputs": []
    },
    {
      "cell_type": "code",
      "metadata": {
        "id": "YVbNH6TjgS4D"
      },
      "source": [
        "def getfeed(country):\n",
        "  docs=store.collection(\"users\").stream()\n",
        "  dit={}\n",
        "  for doc in docs:\n",
        "    dit[doc.id]=doc.to_dict()\n",
        "    return dit"
      ],
      "execution_count": 9,
      "outputs": []
    },
    {
      "cell_type": "code",
      "metadata": {
        "colab": {
          "base_uri": "https://localhost:8080/"
        },
        "id": "0dUOjAYXnvgY",
        "outputId": "e1203723-d84f-4565-d2dc-2ad37a339ff0"
      },
      "source": [
        "getfeed(\"india\")"
      ],
      "execution_count": 19,
      "outputs": [
        {
          "output_type": "execute_result",
          "data": {
            "text/plain": [
              "{'rko7tX5WcgYUfUQhp32R6cjLef03': {'company': 'letsupgrade',\n",
              "  'createdAt': DatetimeWithNanoseconds(2021, 3, 24, 14, 2, 56, 215000, tzinfo=<UTC>),\n",
              "  'descript': 'single',\n",
              "  'dob': '15/5/1999',\n",
              "  'email': 'pite@hello.to',\n",
              "  'gender': 'female',\n",
              "  'image': '/content/Image about girl in art by Fira_489 on We Heart It.jpg',\n",
              "  'job': 'developer',\n",
              "  'location': {'city': 'Ludhiana',\n",
              "   'coordinate': {'lat': 30.900965, 'lng': 75.857277},\n",
              "   'country': 'India',\n",
              "   'state': 'Punjab'},\n",
              "  'name': 'Harpreet',\n",
              "  'number': '9494959637',\n",
              "  'passion': 'studying'}}"
            ]
          },
          "metadata": {
            "tags": []
          },
          "execution_count": 19
        }
      ]
    },
    {
      "cell_type": "code",
      "metadata": {
        "id": "2DGA35tootdD"
      },
      "source": [
        "allProfiles=getfeed(\"india\")"
      ],
      "execution_count": 20,
      "outputs": []
    },
    {
      "cell_type": "code",
      "metadata": {
        "colab": {
          "base_uri": "https://localhost:8080/"
        },
        "id": "xcLvgCqoo8e9",
        "outputId": "db0a67ab-a38a-4aa5-f741-a5b68a4ee739"
      },
      "source": [
        "allProfiles"
      ],
      "execution_count": 21,
      "outputs": [
        {
          "output_type": "execute_result",
          "data": {
            "text/plain": [
              "{'rko7tX5WcgYUfUQhp32R6cjLef03': {'company': 'letsupgrade',\n",
              "  'createdAt': DatetimeWithNanoseconds(2021, 3, 24, 14, 2, 56, 215000, tzinfo=<UTC>),\n",
              "  'descript': 'single',\n",
              "  'dob': '15/5/1999',\n",
              "  'email': 'pite@hello.to',\n",
              "  'gender': 'female',\n",
              "  'image': '/content/Image about girl in art by Fira_489 on We Heart It.jpg',\n",
              "  'job': 'developer',\n",
              "  'location': {'city': 'Ludhiana',\n",
              "   'coordinate': {'lat': 30.900965, 'lng': 75.857277},\n",
              "   'country': 'India',\n",
              "   'state': 'Punjab'},\n",
              "  'name': 'Harpreet',\n",
              "  'number': '9494959637',\n",
              "  'passion': 'studying'}}"
            ]
          },
          "metadata": {
            "tags": []
          },
          "execution_count": 21
        }
      ]
    },
    {
      "cell_type": "code",
      "metadata": {
        "id": "w1nnJZ6zp0tb"
      },
      "source": [
        "dit={}\n",
        "\n",
        "dit[\"name\"]=\"shalini\"\n",
        "dit[\"email\"]=\"shalini@hello.to\"\n",
        "dit[\"number\"]=\"9494959637\"\n",
        "dit[\"image\"]=\"/content/Image about girl in art by Fira_489 on We Heart It.jpg\"\n",
        "dit[\"descript\"]=\"single\"\n",
        "dit[\"location\"]={\"coordinate\":{\"lat\":30.900965,\"lng\":75.857277},\"city\":\"abc\",\"state\":\"xyz\",\"country\":\"London\"}\n",
        "dit[\"dob\"]=\"15/3/1999\"\n",
        "dit[\"gender\"]=\"female\"\n",
        "dit[\"passion\"]=\"studying\"\n",
        "dit[\"job\"]=\"developer\"\n",
        "dit[\"company\"]=\"letsupgrade\""
      ],
      "execution_count": 22,
      "outputs": []
    },
    {
      "cell_type": "code",
      "metadata": {
        "id": "vxheaI1Yp2qR"
      },
      "source": [
        "updateuserdata(\"rko7tX5WcgYUfUQhp32R6cjLef08\",dit)"
      ],
      "execution_count": 23,
      "outputs": []
    },
    {
      "cell_type": "code",
      "metadata": {
        "id": "_KXSLwqspvzc"
      },
      "source": [
        "def getfeed(country):\n",
        "  docs=store.collection(\"users\").stream()\n",
        "  dit={}\n",
        "  for doc in docs:\n",
        "    if doc.to_dict().get(\"location\").get(\"country\")==country:\n",
        "      dit[doc.id]=doc.to_dict()\n",
        "      return dit"
      ],
      "execution_count": 10,
      "outputs": []
    },
    {
      "cell_type": "code",
      "metadata": {
        "colab": {
          "base_uri": "https://localhost:8080/"
        },
        "id": "reRYHIV_ss-P",
        "outputId": "5dc11a49-f2cc-4d6c-a710-f3f62923a82f"
      },
      "source": [
        "getfeed(\"London\")"
      ],
      "execution_count": 36,
      "outputs": [
        {
          "output_type": "execute_result",
          "data": {
            "text/plain": [
              "{'rko7tX5WcgYUfUQhp32R6cjLef08': {'company': 'letsupgrade',\n",
              "  'createdAt': DatetimeWithNanoseconds(2021, 3, 24, 14, 37, 28, 473000, tzinfo=<UTC>),\n",
              "  'descript': 'single',\n",
              "  'dob': '15/3/1999',\n",
              "  'email': 'shalini@hello.to',\n",
              "  'gender': 'female',\n",
              "  'image': '/content/Image about girl in art by Fira_489 on We Heart It.jpg',\n",
              "  'job': 'developer',\n",
              "  'location': {'city': 'abc',\n",
              "   'coordinate': {'lat': 30.900965, 'lng': 75.857277},\n",
              "   'country': 'London',\n",
              "   'state': 'xyz'},\n",
              "  'name': 'shalini',\n",
              "  'number': '9494959637',\n",
              "  'passion': 'studying'}}"
            ]
          },
          "metadata": {
            "tags": []
          },
          "execution_count": 36
        }
      ]
    },
    {
      "cell_type": "code",
      "metadata": {
        "id": "E952j0FBvCuh"
      },
      "source": [
        "def getfeed(country,gender):\n",
        "  docs=store.collection(\"users\").where(\"gender\",\"==\",gender).stream()\n",
        "  dit={}\n",
        "  for doc in docs:\n",
        "    if doc.to_dict().get(\"location\").get(\"country\")==country:\n",
        "      dit[doc.id]=doc.to_dict()\n",
        "      return dit"
      ],
      "execution_count": 11,
      "outputs": []
    },
    {
      "cell_type": "code",
      "metadata": {
        "colab": {
          "base_uri": "https://localhost:8080/"
        },
        "id": "7kQ9eeQkviAN",
        "outputId": "13a7453c-8647-4927-a334-1a7cc20e94e5"
      },
      "source": [
        "getfeed(\"London\",\"female\")"
      ],
      "execution_count": 39,
      "outputs": [
        {
          "output_type": "execute_result",
          "data": {
            "text/plain": [
              "{'rko7tX5WcgYUfUQhp32R6cjLef08': {'company': 'letsupgrade',\n",
              "  'createdAt': DatetimeWithNanoseconds(2021, 3, 24, 14, 37, 28, 473000, tzinfo=<UTC>),\n",
              "  'descript': 'single',\n",
              "  'dob': '15/3/1999',\n",
              "  'email': 'shalini@hello.to',\n",
              "  'gender': 'female',\n",
              "  'image': '/content/Image about girl in art by Fira_489 on We Heart It.jpg',\n",
              "  'job': 'developer',\n",
              "  'location': {'city': 'abc',\n",
              "   'coordinate': {'lat': 30.900965, 'lng': 75.857277},\n",
              "   'country': 'London',\n",
              "   'state': 'xyz'},\n",
              "  'name': 'shalini',\n",
              "  'number': '9494959637',\n",
              "  'passion': 'studying'}}"
            ]
          },
          "metadata": {
            "tags": []
          },
          "execution_count": 39
        }
      ]
    },
    {
      "cell_type": "code",
      "metadata": {
        "id": "KGuyxYpxO5wN"
      },
      "source": [
        "def swipeFun(uid_A,uid_B,isA_yes,isB_yes):\n",
        "  dit={}\n",
        "  dit[\"uidA\"]=uid_A\n",
        "  dit[\"uidB\"]=uid_B\n",
        "  dit[\"isAyes\"]=isA_yes\n",
        "  dit[\"isByes\"]=isB_yes\n",
        "  store.collection(\"swipes\").add(dit)\n"
      ],
      "execution_count": 15,
      "outputs": []
    },
    {
      "cell_type": "code",
      "metadata": {
        "id": "yYtfr7_lTQ5V"
      },
      "source": [
        "def swipeFun(uid_A,uid_B,isA_yes,isB_yes,firstTime):\n",
        "  dit={}\n",
        "  dit[\"uidA\"]=uid_A\n",
        "  dit[\"uidB\"]=uid_B\n",
        "  dit[\"isAyes\"]=isA_yes\n",
        "  dit[\"isByes\"]=isB_yes\n",
        "  dit[\"istheotherusershownprofile\"]=firstTime\n",
        "  dit[\"CreatedAt\"]=firestore.SERVER_TIMESTAMP\n",
        "  store.collection(\"swipes\").add(dit)"
      ],
      "execution_count": 21,
      "outputs": []
    },
    {
      "cell_type": "code",
      "metadata": {
        "id": "bMyEZuXDREvr"
      },
      "source": [
        "uid_A=\"rko7tX5WcgYUfUQhp32R6cjLef08\"\n",
        "uid_B=\"rko7tX5WcgYUfUQhp32R6cjLef03\"\n",
        "isA_yes=True\n",
        "isB_yes=False\n",
        "swipeFun(uid_A,uid_B,isA_yes,isB_yes)"
      ],
      "execution_count": 16,
      "outputs": []
    },
    {
      "cell_type": "code",
      "metadata": {
        "id": "DhOiVmXBUgJh"
      },
      "source": [
        "uid_A=\"rko7tX5WcgYUfUQhp32R6cjLef08\"\n",
        "uid_B=\"rko7tX5WcgYUfUQhp32R6cjLef03\"\n",
        "isA_yes=True\n",
        "isB_yes=False\n",
        "firstTime=False\n",
        "swipeFun(uid_A,uid_B,isA_yes,isB_yes,firstTime)"
      ],
      "execution_count": 22,
      "outputs": []
    },
    {
      "cell_type": "code",
      "metadata": {
        "id": "bUkZHRPKWwHG"
      },
      "source": [
        "def getmatchFun(uid):\n",
        "  docs=store.collection(\"swipes\").stream()\n",
        "\n",
        "  ditswipes={}\n",
        "  for doc in docs:\n",
        "    if doc.to_dict().get(\"uidA\")==uid or doc.to_dict().get(\"uidB\")==uid and (doc.to_dict().get(\"isA_yes\")==True and doc.to_dict().get(\"isB_yes\")==True ):\n",
        "      ditswipes[doc.id]=doc.to_dict()\n",
        "      return ditswipes\n",
        "\n"
      ],
      "execution_count": 34,
      "outputs": []
    },
    {
      "cell_type": "code",
      "metadata": {
        "colab": {
          "base_uri": "https://localhost:8080/"
        },
        "id": "ct-0hWImZWT2",
        "outputId": "09cd2981-8b73-4caf-9c8d-2662774fad25"
      },
      "source": [
        "getmatchFun(\"rko7tX5WcgYUfUQhp32R6cjLef08\")"
      ],
      "execution_count": 35,
      "outputs": [
        {
          "output_type": "execute_result",
          "data": {
            "text/plain": [
              "{'4BEhCTumGZlglZBOxL4A': {'CreatedAt': DatetimeWithNanoseconds(2021, 3, 24, 17, 42, 44, 183000, tzinfo=<UTC>),\n",
              "  'isAyes': True,\n",
              "  'isByes': False,\n",
              "  'istheotherusershownprofile': False,\n",
              "  'uidA': 'rko7tX5WcgYUfUQhp32R6cjLef08',\n",
              "  'uidB': 'rko7tX5WcgYUfUQhp32R6cjLef03'}}"
            ]
          },
          "metadata": {
            "tags": []
          },
          "execution_count": 35
        }
      ]
    }
  ]
}